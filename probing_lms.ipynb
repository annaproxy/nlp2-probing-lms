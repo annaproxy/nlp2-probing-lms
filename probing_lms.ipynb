{
 "cells": [
  {
   "cell_type": "markdown",
   "metadata": {},
   "source": [
    "__Probing Language Models__\n",
    "\n",
    "This notebook serves as a start for your NLP2 assignment on probing Language Models. This notebook will become part of the contents that you will submit at the end, so make sure to keep your code (somewhat) clean :-)\n",
    "\n",
    "__note__: This is the first time _anyone_ is doing this assignment. That's exciting! But it might well be the case that certain aspects are too unclear. Do not hesitate at all to reach to me once you get stuck, I'd be grateful to help you out.\n",
    "\n",
    "__note 2__: This assignment is not dependent on big fancy GPUs. I run all this stuff on my own 3 year old CPU, without any Colab hassle. So it's up to you to decide how you want to run it."
   ]
  },
  {
   "cell_type": "markdown",
   "metadata": {},
   "source": [
    "# Models\n",
    "\n",
    "For the Transformer models you are advised to make use of the `transformers` library of Huggingface: https://github.com/huggingface/transformers\n",
    "Their library is well documented, and they provide great tools to easily load in pre-trained models."
   ]
  },
  {
   "cell_type": "code",
   "execution_count": 1,
   "metadata": {
    "scrolled": true
   },
   "outputs": [],
   "source": [
    "import torch\n",
    "import numpy as np\n",
    "import time\n",
    "\n",
    "from collections import defaultdict\n",
    "from typing import List\n",
    "from conllu import parse_incr, TokenList\n",
    "from torch import Tensor\n",
    "from transformers import GPT2Model, GPT2Tokenizer\n",
    "\n",
    "from lstm.model import RNNModel\n",
    "CUTOFF = 30\n",
    "device = torch.device(\"cuda:0\" if torch.cuda.is_available() else \"cpu\")"
   ]
  },
  {
   "cell_type": "code",
   "execution_count": 2,
   "metadata": {},
   "outputs": [
    {
     "name": "stdout",
     "output_type": "stream",
     "text": [
      "Model ready\n",
      "Tokenizer ready\n"
     ]
    }
   ],
   "source": [
    "transformer = GPT2Model.from_pretrained('distilgpt2', output_hidden_states=True)\n",
    "print(\"Model ready\")\n",
    "tokenizer = GPT2Tokenizer.from_pretrained('distilgpt2')\n",
    "print(\"Tokenizer ready\")\n",
    "# Note that some models don't return the hidden states by default.\n",
    "# This can be configured by passing `output_hidden_states=True` to the `from_pretrained` method."
   ]
  },
  {
   "cell_type": "code",
   "execution_count": 3,
   "metadata": {},
   "outputs": [
    {
     "data": {
      "text/plain": [
       "'I like puffy cheeseballs'"
      ]
     },
     "execution_count": 3,
     "metadata": {},
     "output_type": "execute_result"
    }
   ],
   "source": [
    "tokenizer.decode(tokenizer.encode(\"I like puffy cheeseballs\"))"
   ]
  },
  {
   "cell_type": "code",
   "execution_count": 4,
   "metadata": {},
   "outputs": [],
   "source": [
    "#\n",
    "## Your code for initializing the rnn model(s)\n",
    "#\n",
    "# The Gulordava LSTM model can be found here: \n",
    "# https://drive.google.com/open?id=1w47WsZcZzPyBKDn83cMNd0Hb336e-_Sy\n",
    "#\n",
    "# N.B: I have altered the RNNModel code to only output the hidden states that you are interested in.\n",
    "# If you want to do more experiments with this model you could have a look at the original code here:\n",
    "# https://github.com/facebookresearch/colorlessgreenRNNs/blob/master/src/language_models/model.py\n",
    "#\n",
    "model_location = 'lstm/gulordava.pt'\n",
    "lstm = RNNModel('LSTM', 50001, 650, 650, 2)\n",
    "lstm.load_state_dict(torch.load(model_location))\n",
    "\n",
    "\n",
    "# This LSTM does not use a Tokenizer like the Transformers, but a Vocab dictionary that maps a token to an id.\n",
    "with open('lstm/vocab.txt') as f:\n",
    "    w2i = {w.strip(): i for i, w in enumerate(f)}\n",
    "\n",
    "vocab = defaultdict(lambda: w2i[\"<unk>\"])\n",
    "vocab.update(w2i)\n",
    "i2w = { w2i[k]:k for k in w2i}"
   ]
  },
  {
   "cell_type": "code",
   "execution_count": 5,
   "metadata": {},
   "outputs": [
    {
     "name": "stdout",
     "output_type": "stream",
     "text": [
      "<class 'lstm.model.RNNModel'>\n",
      "Voc size 50001\n",
      "My sister is 20 years\n"
     ]
    }
   ],
   "source": [
    "lstm.eval()\n",
    "print(type(lstm))\n",
    "with torch.no_grad():\n",
    "    input_sent = \"My sister is 20\"\n",
    "    inputs = torch.tensor([vocab[z] for z in input_sent.split()]).unsqueeze(0)\n",
    "    outputs = lstm(inputs, lstm.init_hidden(1), True)\n",
    "    argmaxes = torch.argmax(outputs, dim=1)\n",
    "    last = argmaxes[-1]\n",
    "    print(\"Voc size\", outputs.shape[-1])\n",
    "    print(input_sent, i2w[last.item()])"
   ]
  },
  {
   "cell_type": "markdown",
   "metadata": {},
   "source": [
    "It is a good idea that before you move on, you try to feed some text to your LMs; and check if everything works accordingly. "
   ]
  },
  {
   "cell_type": "markdown",
   "metadata": {},
   "source": [
    "# Data\n",
    "\n",
    "For this assignment you will train your probes on __treebank__ corpora. A treebank is a corpus that has been *parsed*, and stored in a representation that allows the parse tree to be recovered. Next to a parse tree, treebanks also often contain information about part-of-speech tags, which is exactly what we are after now.\n",
    "\n",
    "The treebank you will use for now is part of the Universal Dependencies project. I provide a sample of this treebank as well, so you can test your setup on that before moving on to larger amounts of data.\n",
    "\n",
    "Make sure you accustom yourself to the format that is created by the `conllu` library that parses the treebank files before moving on. For example, make sure you understand how you can access the pos tag of a token, or how to cope with the tree structure that is formed using the `to_tree()` functionality."
   ]
  },
  {
   "cell_type": "code",
   "execution_count": null,
   "metadata": {},
   "outputs": [],
   "source": []
  },
  {
   "cell_type": "markdown",
   "metadata": {},
   "source": [
    "# Generating Representations\n",
    "\n",
    "We now have our data all set, our models are running and we are good to go!\n",
    "\n",
    "The next step is now to create the model representations for the sentences in our corpora. Once we have generated these representations we can store them, and train additional diagnostic (/probing) classifiers on top of the representations.\n",
    "\n",
    "There are a few things you should keep in mind here. Read these carefully, as these tips will save you a lot of time in your implementation.\n",
    "- Transformer models make use of Byte-Pair Encodings (BPE), that chunk up a piece of next in subword pieces. For example, a word such as \"largely\" could be chunked up into \"large\" and \"ly\". We are interested in probing linguistic information on the __word__-level. Therefore, we will follow the suggestion of Hewitt et al. (2019a, footnote 4), and create the representation of a word by averaging over the representations of its subwords. So the representation of \"largely\" becomes the average of that of \"large\" and \"ly\".\n",
    "\n",
    "- Subword chunks never overlap multiple tokens. In other words, say we have a phrase like \"None of the\", then the tokenizer might chunk that into \"No\"+\"ne\"+\" of\"+\" the\", but __not__ into \"No\"+\"ne o\"+\"f the\", as those chunks overlap multiple tokens. This is great for our setup! Otherwise it would have been quite challenging to distribute the representation of a subword over the 2 tokens it belongs to.\n",
    "\n",
    "- If you closely examine the provided treebank, you will notice that some tokens are split up into multiple pieces, that each have their own POS-tag. For example, in the first sentence the word \"Al-Zaman\" is split into \"Al\", \"-\", and \"Zaman\". In such cases, the conllu `TokenList` format will add the following attribute: `('misc', OrderedDict([('SpaceAfter', 'No')]))` to these tokens. Your model's tokenizer does not need to adhere to the same tokenization. E.g., \"Al-Zaman\" could be split into \"Al-\"+\"Za\"+\"man\", making it hard to match the representations with their correct pos-tag. Therefore I recommend you to not tokenize your entire sentence at once, but to do this based on the chunking of the treebank. Make sure to still incoporate the spaces in a sentence though, as these are part of the BPE of the tokenizer. The tokenizer for GPT-2 adds spaces at the start of a token.\n",
    "\n",
    "- The LSTM LM does not have the issues related to subwords, but is far more restricted in its vocabulary. Make sure you keep the above points in mind though, when creating the LSTM representations. You might want to write separate functions for the LSTM, but that is up to you.\n",
    "\n",
    "I would like to stress that if you feel hindered in any way by the simple code structure that is presented here, you are free to modify it :-) Just make sure it is clear to an outsider what you're doing, some helpful comments never hurt."
   ]
  },
  {
   "cell_type": "code",
   "execution_count": 19,
   "metadata": {},
   "outputs": [
    {
     "name": "stdout",
     "output_type": "stream",
     "text": [
      "Doing LSTM: False\n",
      "Doing LSTM: True\n",
      "torch.Size([29, 768]) torch.Size([29, 768])\n",
      "All is well!\n"
     ]
    }
   ],
   "source": [
    "from utils import assert_sen_reps, fetch_sen_reps, parse_corpus, bitch\n",
    "assert_sen_reps(transformer, tokenizer, lstm, vocab)"
   ]
  },
  {
   "cell_type": "code",
   "execution_count": 20,
   "metadata": {
    "scrolled": true
   },
   "outputs": [],
   "source": [
    "from utils import create_or_load_pos_data\n",
    "\n",
    "train_x, train_y, vocab, words_train = create_or_load_pos_data(\"train\", transformer, tokenizer, cutoff=CUTOFF)\n",
    "dev_x, dev_y, vocab, words_dev = create_or_load_pos_data(\"dev\", transformer, tokenizer, vocab, cutoff=CUTOFF)\n",
    "test_x, test_y, vocab, words_test = create_or_load_pos_data(\"test\", transformer, tokenizer, vocab, cutoff=CUTOFF)"
   ]
  },
  {
   "cell_type": "code",
   "execution_count": 21,
   "metadata": {},
   "outputs": [],
   "source": [
    "#TODO: MAKE THIS SHIZZ WORK BETTER BECAUSE SPAGHETTI^2\n",
    "flatten_train = [word for sublist in words_train for word in sublist]\n",
    "flatten_dev   = [word for sublist in words_dev for word in sublist]\n",
    "flatten_test  = [word for sublist in words_test for word in sublist]"
   ]
  },
  {
   "cell_type": "code",
   "execution_count": 22,
   "metadata": {},
   "outputs": [
    {
     "name": "stdout",
     "output_type": "stream",
     "text": [
      "667\n"
     ]
    }
   ],
   "source": [
    "print(len(flatten_train))"
   ]
  },
  {
   "cell_type": "markdown",
   "metadata": {},
   "source": [
    "# Diagnostic Classification\n",
    "\n",
    "We now have our models, our data, _and_ our representations all set! Hurray, well done. We can finally move onto the cool stuff, i.e. training the diagnostic classifiers (DCs).\n",
    "\n",
    "DCs are simple in their complexity on purpose. To read more about why this is the case you could already have a look at the \"Designing and Interpreting Probes with Control Tasks\" by Hewitt and Liang (esp. Sec. 3.2).\n",
    "\n",
    "A simple linear classifier will suffice for now, don't bother with adding fancy non-linearities to it.\n",
    "\n",
    "I am personally a fan of the `skorch` library, that provides `sklearn`-like functionalities for training `torch` models, but you are free to train your dc using whatever method you prefer.\n",
    "\n",
    "As this is an Artificial Intelligence master and you have all done ML1 + DL, I expect you to use your train/dev/test splits correctly ;-)"
   ]
  },
  {
   "cell_type": "code",
   "execution_count": 23,
   "metadata": {},
   "outputs": [],
   "source": [
    "from datasets import POSDataset, find_distribution\n",
    "import torch.utils.data as data\n",
    "    \n",
    "train_loader = data.DataLoader(POSDataset(train_x, train_y), batch_size=16)\n",
    "dev_loader = data.DataLoader(POSDataset(dev_x, dev_y), batch_size=16)\n",
    "test_loader = data.DataLoader(POSDataset(test_x, test_y), batch_size=16)"
   ]
  },
  {
   "cell_type": "code",
   "execution_count": 24,
   "metadata": {},
   "outputs": [
    {
     "name": "stdout",
     "output_type": "stream",
     "text": [
      "defaultdict(<function find_distribution.<locals>.<lambda> at 0x7f1574aaf040>, {0: 89, 1: 66, 2: 36, 3: 114, 4: 58, 5: 75, 6: 83, 7: 42, 8: 33, 9: 6, 10: 16, 11: 15, 12: 21, 13: 13})\n"
     ]
    }
   ],
   "source": [
    "dist = find_distribution(data.DataLoader(POSDataset(train_x, train_y), batch_size=1))\n",
    "print(dist)"
   ]
  },
  {
   "cell_type": "code",
   "execution_count": 25,
   "metadata": {},
   "outputs": [
    {
     "name": "stdout",
     "output_type": "stream",
     "text": [
      "Epoch 0 accuracy 0.3793103448275862 0.505730659025788\n",
      "Epoch 1 accuracy 0.7496251874062968 0.6361031518624641\n",
      "Epoch 2 accuracy 0.8470764617691154 0.6876790830945558\n",
      "Epoch 3 accuracy 0.889055472263868 0.7177650429799427\n",
      "Epoch 4 accuracy 0.9160419790104948 0.7292263610315186\n",
      "Epoch 5 accuracy 0.9295352323838081 0.7406876790830945\n",
      "Epoch 6 accuracy 0.9445277361319341 0.7521489971346705\n",
      "Epoch 7 accuracy 0.9505247376311844 0.7593123209169055\n",
      "Epoch 8 accuracy 0.952023988005997 0.7621776504297995\n",
      "Epoch 9 accuracy 0.9610194902548725 0.7664756446991404\n",
      "Test accuracy 0.7245508982035929\n"
     ]
    }
   ],
   "source": [
    "# DIAGNOSTIC CLASSIFIER\n",
    "import torch.nn as nn\n",
    "class POSProbe(nn.Module):\n",
    "    def __init__(self, repr_size, pos_size):\n",
    "        super().__init__()\n",
    "        self.linear = nn.Linear(repr_size, pos_size)\n",
    "        \n",
    "    def forward(self, x):\n",
    "        return self.linear(x)\n",
    "    \n",
    "def eval_given_dataloader(loader, model):\n",
    "    model.eval()\n",
    "    correct = 0.0\n",
    "    total = 0.0\n",
    "    for x,y in loader:\n",
    "        x = x.to(device)\n",
    "        y = y.to(device)\n",
    "        outputs = model(x)\n",
    "        preds = torch.argmax(outputs,dim=1)\n",
    "        c = torch.sum(torch.eq(preds, y))\n",
    "        correct += c.item()\n",
    "        total += y.shape[0]\n",
    "    return correct/total\n",
    "    \n",
    "def train(my_model, train_loader, dev_loader, epoch_amount = 10):\n",
    "    ce = nn.CrossEntropyLoss()\n",
    "    optim = torch.optim.Adam(my_model.parameters())\n",
    "    for i in range(epoch_amount):\n",
    "        my_model.train()\n",
    "        epoch_correct = 0.0\n",
    "        epoch_total = 0.0\n",
    "        for x,y in train_loader:\n",
    "            \n",
    "            x = x.to(device)\n",
    "            y = y.to(device)\n",
    "            outputs = my_model(x)\n",
    "            preds = torch.argmax(outputs,dim=1)\n",
    "            correct = torch.sum(torch.eq(preds, y))\n",
    "            accuracy = correct.item()/y.shape[0]\n",
    "            loss = ce(outputs, y)\n",
    "\n",
    "            optim.zero_grad()\n",
    "            loss.backward()\n",
    "            optim.step()\n",
    "            \n",
    "            epoch_correct += correct.item()\n",
    "            epoch_total += y.shape[0]\n",
    "        print(\"Epoch\",i,\"accuracy\", epoch_correct/epoch_total, eval_given_dataloader(dev_loader, my_model))\n",
    "    \n",
    "        \n",
    "model = POSProbe(768, len(dist)).to(device)\n",
    "train(model, train_loader, dev_loader, 10)\n",
    "print(\"Test accuracy\", eval_given_dataloader(test_loader, model))"
   ]
  },
  {
   "cell_type": "markdown",
   "metadata": {},
   "source": [
    "# Trees\n",
    "\n",
    "For our gold labels, we need to recover the node distances from our parse tree. For this we will use the functionality provided by `ete3`, that allows us to compute that directly. I have provided code that transforms a `TokenTree` to a `Tree` in `ete3` format."
   ]
  },
  {
   "cell_type": "code",
   "execution_count": 13,
   "metadata": {},
   "outputs": [],
   "source": [
    "from tree_utils import * "
   ]
  },
  {
   "cell_type": "code",
   "execution_count": 14,
   "metadata": {},
   "outputs": [
    {
     "name": "stdout",
     "output_type": "stream",
     "text": [
      "TokenList<Al, -, Zaman, :, American, forces, killed, Shaikh, Abdullah, al, -, Ani, ,, the, preacher, at, the, mosque, in, the, town, of, Qaim, ,, near, the, Syrian, border, .>\n",
      "\n",
      "   /-2\n",
      "  |\n",
      "  |--3\n",
      "  |\n",
      "  |--4\n",
      "  |\n",
      "  |   /6 /-5\n",
      "  |  |\n",
      "  |  |   /-9\n",
      "  |  |  |\n",
      "  |  |  |--10\n",
      "  |  |  |\n",
      "  |  |  |--11\n",
      "  |  |-8|\n",
      "  |  |  |--12\n",
      "  |-7|  |\n",
      "  |  |  |--13\n",
      "  |  |  |\n",
      "  |  |   \\15/-14\n",
      "-1|  |\n",
      "  |  |   /-16\n",
      "  |  |  |\n",
      "  |  |  |--17\n",
      "  |  |  |\n",
      "  |   \\18   /-19\n",
      "  |     |  |\n",
      "  |     |  |--20\n",
      "  |     |  |\n",
      "  |     |  |-23/-22\n",
      "  |      \\21\n",
      "  |        |--24\n",
      "  |        |\n",
      "  |        |   /-25\n",
      "  |        |  |\n",
      "  |         \\28--26\n",
      "  |           |\n",
      "  |            \\-27\n",
      "  |\n",
      "   \\-29\n"
     ]
    }
   ],
   "source": [
    "corpus = parse_corpus('data/sample/en_ewt-ud-train.conllu')\n",
    "item = corpus[0]\n",
    "print(corpus[0])\n",
    "tokentree = item.to_tree()\n",
    "ete3_tree = tokentree_to_ete(tokentree)\n",
    "print(ete3_tree)"
   ]
  },
  {
   "cell_type": "markdown",
   "metadata": {},
   "source": [
    "As you can see we label a token by its token id (converted to a string). Based on these id's we are going to retrieve the node distances.\n",
    "\n",
    "To create the true distances of a parse tree in our treebank, we are going to use the `.get_distance` method that is provided by `ete3`: http://etetoolkit.org/docs/latest/tutorial/tutorial_trees.html#working-with-branch-distances\n",
    "\n",
    "We will store all these distances in a `torch.Tensor`.\n",
    "\n",
    "Please fill in the gap in the following method. I recommend you to have a good look at Hewitt's blog post  about these node distances."
   ]
  },
  {
   "cell_type": "code",
   "execution_count": 15,
   "metadata": {},
   "outputs": [
    {
     "data": {
      "text/plain": [
       "tensor([[0., 1., 1., 1., 1., 1., 2., 2., 2., 3., 3., 3., 3., 3., 3., 3., 3., 3.,\n",
       "         3., 4., 4., 4., 4., 4., 4., 5., 5., 5., 5.],\n",
       "        [1., 0., 2., 2., 2., 2., 3., 3., 3., 4., 4., 4., 4., 4., 4., 4., 4., 4.,\n",
       "         4., 5., 5., 5., 5., 5., 5., 6., 6., 6., 6.],\n",
       "        [1., 2., 0., 2., 2., 2., 3., 3., 3., 4., 4., 4., 4., 4., 4., 4., 4., 4.,\n",
       "         4., 5., 5., 5., 5., 5., 5., 6., 6., 6., 6.],\n",
       "        [1., 2., 2., 0., 2., 2., 3., 3., 3., 4., 4., 4., 4., 4., 4., 4., 4., 4.,\n",
       "         4., 5., 5., 5., 5., 5., 5., 6., 6., 6., 6.],\n",
       "        [1., 2., 2., 2., 0., 2., 1., 1., 1., 2., 2., 2., 2., 2., 2., 2., 2., 2.,\n",
       "         2., 3., 3., 3., 3., 3., 3., 4., 4., 4., 4.],\n",
       "        [1., 2., 2., 2., 2., 0., 3., 3., 3., 4., 4., 4., 4., 4., 4., 4., 4., 4.,\n",
       "         4., 5., 5., 5., 5., 5., 5., 6., 6., 6., 6.],\n",
       "        [2., 3., 3., 3., 1., 3., 0., 2., 2., 1., 3., 3., 3., 3., 3., 3., 3., 3.,\n",
       "         3., 4., 4., 4., 4., 4., 4., 5., 5., 5., 5.],\n",
       "        [2., 3., 3., 3., 1., 3., 2., 0., 2., 3., 1., 1., 1., 1., 1., 1., 3., 3.,\n",
       "         3., 2., 4., 4., 4., 4., 4., 5., 5., 5., 5.],\n",
       "        [2., 3., 3., 3., 1., 3., 2., 2., 0., 3., 3., 3., 3., 3., 3., 3., 1., 1.,\n",
       "         1., 4., 2., 2., 2., 2., 2., 3., 3., 3., 3.],\n",
       "        [3., 4., 4., 4., 2., 4., 1., 3., 3., 0., 4., 4., 4., 4., 4., 4., 4., 4.,\n",
       "         4., 5., 5., 5., 5., 5., 5., 6., 6., 6., 6.],\n",
       "        [3., 4., 4., 4., 2., 4., 3., 1., 3., 4., 0., 2., 2., 2., 2., 2., 4., 4.,\n",
       "         4., 3., 5., 5., 5., 5., 5., 6., 6., 6., 6.],\n",
       "        [3., 4., 4., 4., 2., 4., 3., 1., 3., 4., 2., 0., 2., 2., 2., 2., 4., 4.,\n",
       "         4., 3., 5., 5., 5., 5., 5., 6., 6., 6., 6.],\n",
       "        [3., 4., 4., 4., 2., 4., 3., 1., 3., 4., 2., 2., 0., 2., 2., 2., 4., 4.,\n",
       "         4., 3., 5., 5., 5., 5., 5., 6., 6., 6., 6.],\n",
       "        [3., 4., 4., 4., 2., 4., 3., 1., 3., 4., 2., 2., 2., 0., 2., 2., 4., 4.,\n",
       "         4., 3., 5., 5., 5., 5., 5., 6., 6., 6., 6.],\n",
       "        [3., 4., 4., 4., 2., 4., 3., 1., 3., 4., 2., 2., 2., 2., 0., 2., 4., 4.,\n",
       "         4., 3., 5., 5., 5., 5., 5., 6., 6., 6., 6.],\n",
       "        [3., 4., 4., 4., 2., 4., 3., 1., 3., 4., 2., 2., 2., 2., 2., 0., 4., 4.,\n",
       "         4., 1., 5., 5., 5., 5., 5., 6., 6., 6., 6.],\n",
       "        [3., 4., 4., 4., 2., 4., 3., 3., 1., 4., 4., 4., 4., 4., 4., 4., 0., 2.,\n",
       "         2., 5., 3., 3., 3., 3., 3., 4., 4., 4., 4.],\n",
       "        [3., 4., 4., 4., 2., 4., 3., 3., 1., 4., 4., 4., 4., 4., 4., 4., 2., 0.,\n",
       "         2., 5., 3., 3., 3., 3., 3., 4., 4., 4., 4.],\n",
       "        [3., 4., 4., 4., 2., 4., 3., 3., 1., 4., 4., 4., 4., 4., 4., 4., 2., 2.,\n",
       "         0., 5., 1., 1., 1., 1., 1., 2., 2., 2., 2.],\n",
       "        [4., 5., 5., 5., 3., 5., 4., 2., 4., 5., 3., 3., 3., 3., 3., 1., 5., 5.,\n",
       "         5., 0., 6., 6., 6., 6., 6., 7., 7., 7., 7.],\n",
       "        [4., 5., 5., 5., 3., 5., 4., 4., 2., 5., 5., 5., 5., 5., 5., 5., 3., 3.,\n",
       "         1., 6., 0., 2., 2., 2., 2., 3., 3., 3., 3.],\n",
       "        [4., 5., 5., 5., 3., 5., 4., 4., 2., 5., 5., 5., 5., 5., 5., 5., 3., 3.,\n",
       "         1., 6., 2., 0., 2., 2., 2., 3., 3., 3., 3.],\n",
       "        [4., 5., 5., 5., 3., 5., 4., 4., 2., 5., 5., 5., 5., 5., 5., 5., 3., 3.,\n",
       "         1., 6., 2., 2., 0., 2., 2., 1., 3., 3., 3.],\n",
       "        [4., 5., 5., 5., 3., 5., 4., 4., 2., 5., 5., 5., 5., 5., 5., 5., 3., 3.,\n",
       "         1., 6., 2., 2., 2., 0., 2., 3., 3., 3., 3.],\n",
       "        [4., 5., 5., 5., 3., 5., 4., 4., 2., 5., 5., 5., 5., 5., 5., 5., 3., 3.,\n",
       "         1., 6., 2., 2., 2., 2., 0., 3., 1., 1., 1.],\n",
       "        [5., 6., 6., 6., 4., 6., 5., 5., 3., 6., 6., 6., 6., 6., 6., 6., 4., 4.,\n",
       "         2., 7., 3., 3., 1., 3., 3., 0., 4., 4., 4.],\n",
       "        [5., 6., 6., 6., 4., 6., 5., 5., 3., 6., 6., 6., 6., 6., 6., 6., 4., 4.,\n",
       "         2., 7., 3., 3., 3., 3., 1., 4., 0., 2., 2.],\n",
       "        [5., 6., 6., 6., 4., 6., 5., 5., 3., 6., 6., 6., 6., 6., 6., 6., 4., 4.,\n",
       "         2., 7., 3., 3., 3., 3., 1., 4., 2., 0., 2.],\n",
       "        [5., 6., 6., 6., 4., 6., 5., 5., 3., 6., 6., 6., 6., 6., 6., 6., 4., 4.,\n",
       "         2., 7., 3., 3., 3., 3., 1., 4., 2., 2., 0.]])"
      ]
     },
     "execution_count": 15,
     "metadata": {},
     "output_type": "execute_result"
    }
   ],
   "source": [
    "all_distances = create_gold_distances(corpus[:10])\n",
    "all_distances[0]"
   ]
  },
  {
   "cell_type": "markdown",
   "metadata": {},
   "source": [
    "The next step is now to do the previous step the other way around. After all, we are mainly interested in predicting the node distances of a sentence, in order to recreate the corresponding parse tree.\n",
    "\n",
    "Hewitt et al. reconstruct a parse tree based on a _minimum spanning tree_ (MST, https://en.wikipedia.org/wiki/Minimum_spanning_tree). Fortunately for us, we can simply import a method from `scipy` that retrieves this MST."
   ]
  },
  {
   "cell_type": "markdown",
   "metadata": {},
   "source": [
    "Let's have a look at what this looks like, by looking at a relatively short sentence in the sample corpus.\n",
    "\n",
    "If your addition to the `create_gold_distances` method has been correct, you should be able to run the following snippet. This then shows you the original parse tree, the distances between the nodes, and the MST that is retrieved from these distances. Can you spot the edges in the MST matrix that correspond to the edges in the parse tree?"
   ]
  },
  {
   "cell_type": "code",
   "execution_count": 16,
   "metadata": {},
   "outputs": [
    {
     "name": "stdout",
     "output_type": "stream",
     "text": [
      "\n",
      "   /2 /-1\n",
      "  |\n",
      "  |--3\n",
      "  |\n",
      "  |--4\n",
      "  |\n",
      "  |   /-6\n",
      "  |  |\n",
      "-5|  |--7\n",
      "  |-8|\n",
      "  |  |   /-9\n",
      "  |  |  |\n",
      "  |   \\12--10\n",
      "  |     |\n",
      "  |      \\-11\n",
      "  |\n",
      "   \\-13 \n",
      "\n",
      "tensor([[0., 1., 1., 1., 1., 1., 2., 2., 2., 2., 3., 3., 3.],\n",
      "        [1., 0., 2., 2., 2., 2., 1., 3., 3., 3., 4., 4., 4.],\n",
      "        [1., 2., 0., 2., 2., 2., 3., 3., 3., 3., 4., 4., 4.],\n",
      "        [1., 2., 2., 0., 2., 2., 3., 3., 3., 3., 4., 4., 4.],\n",
      "        [1., 2., 2., 2., 0., 2., 3., 1., 1., 1., 2., 2., 2.],\n",
      "        [1., 2., 2., 2., 2., 0., 3., 3., 3., 3., 4., 4., 4.],\n",
      "        [2., 1., 3., 3., 3., 3., 0., 4., 4., 4., 5., 5., 5.],\n",
      "        [2., 3., 3., 3., 1., 3., 4., 0., 2., 2., 3., 3., 3.],\n",
      "        [2., 3., 3., 3., 1., 3., 4., 2., 0., 2., 3., 3., 3.],\n",
      "        [2., 3., 3., 3., 1., 3., 4., 2., 2., 0., 1., 1., 1.],\n",
      "        [3., 4., 4., 4., 2., 4., 5., 3., 3., 1., 0., 2., 2.],\n",
      "        [3., 4., 4., 4., 2., 4., 5., 3., 3., 1., 2., 0., 2.],\n",
      "        [3., 4., 4., 4., 2., 4., 5., 3., 3., 1., 2., 2., 0.]]) \n",
      "\n",
      "[[0. 1. 1. 1. 1. 1. 0. 0. 0. 0. 0. 0. 0.]\n",
      " [0. 0. 0. 0. 0. 0. 1. 0. 0. 0. 0. 0. 0.]\n",
      " [0. 0. 0. 0. 0. 0. 0. 0. 0. 0. 0. 0. 0.]\n",
      " [0. 0. 0. 0. 0. 0. 0. 0. 0. 0. 0. 0. 0.]\n",
      " [0. 0. 0. 0. 0. 0. 0. 1. 1. 1. 0. 0. 0.]\n",
      " [0. 0. 0. 0. 0. 0. 0. 0. 0. 0. 0. 0. 0.]\n",
      " [0. 0. 0. 0. 0. 0. 0. 0. 0. 0. 0. 0. 0.]\n",
      " [0. 0. 0. 0. 0. 0. 0. 0. 0. 0. 0. 0. 0.]\n",
      " [0. 0. 0. 0. 0. 0. 0. 0. 0. 0. 0. 0. 0.]\n",
      " [0. 0. 0. 0. 0. 0. 0. 0. 0. 0. 1. 1. 1.]\n",
      " [0. 0. 0. 0. 0. 0. 0. 0. 0. 0. 0. 0. 0.]\n",
      " [0. 0. 0. 0. 0. 0. 0. 0. 0. 0. 0. 0. 0.]\n",
      " [0. 0. 0. 0. 0. 0. 0. 0. 0. 0. 0. 0. 0.]]\n"
     ]
    }
   ],
   "source": [
    "item = corpus[5]\n",
    "tokentree = item.to_tree()\n",
    "ete3_tree = tokentree_to_ete(tokentree)\n",
    "print(ete3_tree, '\\n')\n",
    "\n",
    "gold_distance = create_gold_distances(corpus[5:6])[0]\n",
    "print(gold_distance, '\\n')\n",
    "\n",
    "mst = create_mst(gold_distance)\n",
    "print(mst)"
   ]
  },
  {
   "cell_type": "markdown",
   "metadata": {},
   "source": [
    "Now that we are able to map edge distances back to parse trees, we can create code for our quantitative evaluation. For this we will use the Undirected Unlabeled Attachment Score (UUAS), which is expressed as:\n",
    "\n",
    "$$\\frac{\\text{number of predicted edges that are an edge in the gold parse tree}}{\\text{number of edges in the gold parse tree}}$$\n",
    "\n",
    "To do this, we will need to obtain all the edges from our MST matrix. Note that, since we are using undirected trees, that an edge can be expressed in 2 ways: an edge between node $i$ and node $j$ is denoted by both `mst[i,j] = 1`, or `mst[j,i] = 1`.\n",
    "\n",
    "You will write code that computes the UUAS score for a matrix of predicted distances, and the corresponding gold distances. I recommend you to split this up into 2 methods: 1 that retrieves the edges that are present in an MST matrix, and one general method that computes the UUAS score."
   ]
  },
  {
   "cell_type": "code",
   "execution_count": 17,
   "metadata": {},
   "outputs": [],
   "source": [
    "mst_edges = edges(mst)\n",
    "assert (0,1) in mst_edges"
   ]
  },
  {
   "cell_type": "markdown",
   "metadata": {},
   "source": [
    "## Structural Probes\n",
    "\n",
    "We now have everything in place to start doing the actual exciting stuff: training our structural probe!\n",
    "    \n",
    "To make life easier for you, we will simply take the `torch` code for this probe from John Hewitt's repository. This allows you to focus on the training regime from now on."
   ]
  },
  {
   "cell_type": "code",
   "execution_count": 6,
   "metadata": {},
   "outputs": [],
   "source": [
    "import torch.nn as nn\n",
    "import torch\n",
    "\n",
    "\n",
    "class StructuralProbe(nn.Module):\n",
    "    \"\"\" Computes squared L2 distance after projection by a matrix.\n",
    "    For a batch of sentences, computes all n^2 pairs of distances\n",
    "    for each sentence in the batch.\n",
    "    \"\"\"\n",
    "    def __init__(self, model_dim, rank, device=\"cpu\"):\n",
    "        super().__init__()\n",
    "        self.probe_rank = rank\n",
    "        self.model_dim = model_dim\n",
    "        \n",
    "        self.proj = nn.Parameter(data = torch.zeros(self.model_dim, self.probe_rank))\n",
    "        \n",
    "        nn.init.uniform_(self.proj, -0.05, 0.05)\n",
    "        self.to(device)\n",
    "\n",
    "    def forward(self, batch):\n",
    "        \"\"\" Computes all n^2 pairs of distances after projection\n",
    "        for each sentence in a batch.\n",
    "        Note that due to padding, some distances will be non-zero for pads.\n",
    "        Computes (B(h_i-h_j))^T(B(h_i-h_j)) for all i,j\n",
    "        Args:\n",
    "          batch: a batch of word representations of the shape\n",
    "            (batch_size, max_seq_len, representation_dim)\n",
    "        Returns:\n",
    "          A tensor of distances of shape (batch_size, max_seq_len, max_seq_len)\n",
    "        \"\"\"\n",
    "        transformed = torch.matmul(batch, self.proj)\n",
    "        \n",
    "        batchlen, seqlen, rank = transformed.size()\n",
    "        \n",
    "        transformed = transformed.unsqueeze(2)\n",
    "        transformed = transformed.expand(-1, -1, seqlen, -1)\n",
    "        transposed = transformed.transpose(1,2)\n",
    "        \n",
    "        diffs = transformed - transposed\n",
    "        \n",
    "        squared_diffs = diffs.pow(2)\n",
    "        squared_distances = torch.sum(squared_diffs, -1)\n",
    "\n",
    "        return squared_distances\n",
    "\n",
    "    \n",
    "class L1DistanceLoss(nn.Module):\n",
    "    \"\"\"Custom L1 loss for distance matrices.\"\"\"\n",
    "    def __init__(self):\n",
    "        super().__init__()\n",
    "\n",
    "    def forward(self, predictions, label_batch, length_batch):\n",
    "        \"\"\" Computes L1 loss on distance matrices.\n",
    "        Ignores all entries where label_batch=-1\n",
    "        Normalizes first within sentences (by dividing by the square of the sentence length)\n",
    "        and then across the batch.\n",
    "        Args:\n",
    "          predictions: A pytorch batch of predicted distances\n",
    "          label_batch: A pytorch batch of true distances\n",
    "          length_batch: A pytorch batch of sentence lengths\n",
    "        Returns:\n",
    "          A tuple of:\n",
    "            batch_loss: average loss in the batch\n",
    "            total_sents: number of sentences in the batch\n",
    "        \"\"\"\n",
    "        labels_1s = (label_batch != -1).float()\n",
    "        predictions_masked = predictions * labels_1s\n",
    "        labels_masked = label_batch * labels_1s\n",
    "        total_sents = torch.sum((length_batch != 0)).float()\n",
    "        squared_lengths = length_batch.pow(2).float()\n",
    "\n",
    "        if total_sents > 0:\n",
    "            loss_per_sent = torch.sum(torch.abs(predictions_masked - labels_masked), dim=(1,2))\n",
    "            normalized_loss_per_sent = loss_per_sent / squared_lengths\n",
    "            batch_loss = torch.sum(normalized_loss_per_sent) / total_sents\n",
    "        \n",
    "        else:\n",
    "            batch_loss = torch.tensor(0.0)\n",
    "        \n",
    "        return batch_loss, total_sents\n"
   ]
  },
  {
   "cell_type": "markdown",
   "metadata": {},
   "source": [
    "I have provided a rough outline for the training regime that you can use. Note that the hyper parameters that I provide here only serve as an indication, but should be (briefly) explored by yourself.\n",
    "\n",
    "As can be seen in Hewitt's code above, there exists functionality in the probe to deal with batched input. It is up to you to use that: a (less efficient) method can still incorporate batches by doing multiple forward passes for a batch and computing the backward pass only once for the summed losses of all these forward passes. (_I know, this is not the way to go, but in the interest of time that is allowed ;-), the purpose of the assignment is writing a good paper after all_)."
   ]
  },
  {
   "cell_type": "code",
   "execution_count": 11,
   "metadata": {
    "scrolled": false
   },
   "outputs": [],
   "source": [
    "import importlib\n",
    "import tree_utils\n",
    "importlib.reload(tree_utils)\n",
    "from tree_utils import create_or_load_structural_data\n",
    "trainxy = create_or_load_structural_data(\"train\", transformer, tokenizer, cutoff=CUTOFF)\n",
    "devxy = create_or_load_structural_data(\"dev\", transformer, tokenizer, cutoff=CUTOFF)\n",
    "testxy = create_or_load_structural_data(\"test\", transformer, tokenizer, cutoff=CUTOFF)"
   ]
  },
  {
   "cell_type": "code",
   "execution_count": 12,
   "metadata": {},
   "outputs": [],
   "source": [
    "from datasets import StructuralDataset, pad_batch\n",
    "import torch.utils.data as data\n",
    "\n",
    "batch_size = 32\n",
    "train_loader = data.DataLoader(StructuralDataset(*trainxy), batch_size=batch_size, collate_fn= pad_batch)\n",
    "dev_loader = data.DataLoader(StructuralDataset(*devxy), batch_size=batch_size, collate_fn= pad_batch)\n",
    "test_loader = data.DataLoader(StructuralDataset(*testxy), batch_size=batch_size, collate_fn= pad_batch)"
   ]
  },
  {
   "cell_type": "code",
   "execution_count": 15,
   "metadata": {},
   "outputs": [
    {
     "name": "stdout",
     "output_type": "stream",
     "text": [
      "StructuralProbe()\n",
      "Epoch 0 Dev loss and uuas 4.185664472908809 0.10515590591423847\n",
      "Epoch 1 Dev loss and uuas 4.180507002205684 0.10515590591423847\n",
      "Epoch 2 Dev loss and uuas 4.175355582401671 0.10515590591423847\n",
      "Epoch 3 Dev loss and uuas 4.170209687331627 0.10515590591423847\n",
      "Epoch 4 Dev loss and uuas 4.165070106243265 0.10515590591423847\n",
      "Epoch 5 Dev loss and uuas 4.159934997558594 0.10515590591423847\n",
      "Epoch 6 Dev loss and uuas 4.154806202855603 0.10515590591423847\n",
      "Epoch 7 Dev loss and uuas 4.149684248299434 0.10515590591423847\n",
      "Epoch 8 Dev loss and uuas 4.144567292312096 0.10515590591423847\n",
      "Epoch 9 Dev loss and uuas 4.139457439554149 0.10515590591423847\n",
      "Test loss, uuas 4.595877583821615 0.1625274179275489\n"
     ]
    }
   ],
   "source": [
    "from torch import optim\n",
    "import math\n",
    "\n",
    "# I recommend you to write a method that can evaluate the UUAS & loss score for the dev (& test) corpus.\n",
    "# Feel free to alter the signature of this method.\n",
    "def evaluate_probe(probe, dataloader):\n",
    "    loss_function =  L1DistanceLoss()\n",
    "    probe.eval()\n",
    "    total_loss = 0.0\n",
    "    total_uuas = 0.0\n",
    "    amt = 0.0\n",
    "    for distances, embs, lengths in dataloader:\n",
    "        embs = embs.to(device)\n",
    "        distances = distances.to(device)\n",
    "        lengths = lengths.to(device)\n",
    "        amt += len(distances)\n",
    "        outputs = probe(embs)\n",
    "        loss = loss_function(outputs, distances, lengths)[0]\n",
    "        total_loss += loss.item()\n",
    "        for i in range(len(distances)):\n",
    "            l = lengths[i]\n",
    "            preds = outputs[i,0:l, 0:l]\n",
    "            gold = distances[i,0:l, 0:l]\n",
    "            \n",
    "            u = tree_utils.calc_uuas(preds, gold)\n",
    "            if math.isnan(u):\n",
    "                amt -= 1\n",
    "            # This if statement is a hack so nans don't get counted\n",
    "            if u >= 0: total_uuas += u\n",
    "    \n",
    "    return total_loss/amt, total_uuas/amt\n",
    "\n",
    "# Feel free to alter the signature of this method.\n",
    "def train_structural(probe, dataloader, dev_dataloader,test_loader, epochs=100):\n",
    "    lr = 1e-5\n",
    "    batch_size = 128\n",
    "    \n",
    "    optimizer = optim.Adam(probe.parameters(), lr=lr)\n",
    "    #scheduler = optim.lr_scheduler.ReduceLROnPlateau(optimizer, mode='min', factor=0.5,patience=1)\n",
    "    loss_function =  L1DistanceLoss()\n",
    "\n",
    "    for epoch in range(epochs):\n",
    "        probe.train()\n",
    "        for distances, embs, lengths in dataloader:\n",
    "            embs = embs.to(device)\n",
    "            distances = distances.to(device)\n",
    "            lengths = lengths.to(device)\n",
    "            outputs = probe(embs)\n",
    "            loss = loss_function(outputs, distances, lengths)[0]\n",
    "            optimizer.zero_grad()\n",
    "            loss.backward()\n",
    "            optimizer.step()\n",
    "\n",
    "        dev_loss, dev_uuas = evaluate_probe(probe, dev_dataloader)\n",
    "        print(\"Epoch\", epoch, \"Dev loss and uuas\", dev_loss, dev_uuas)\n",
    "        # Using a scheduler is up to you, and might require some hyper param fine-tuning\n",
    "        #scheduler.step(dev_loss)\n",
    "\n",
    "    test_loss, test_uuas = evaluate_probe(probe, test_loader)\n",
    "    print(\"Test loss, uuas\", test_loss, test_uuas)\n",
    "\n",
    "emb_dim = 768\n",
    "rank = 64\n",
    "probe = StructuralProbe(emb_dim, rank).to(device)\n",
    "print(probe)\n",
    "train_structural(probe, train_loader, dev_loader, test_loader, epochs=10)"
   ]
  },
  {
   "cell_type": "markdown",
   "metadata": {},
   "source": [
    "# POS tag control task"
   ]
  },
  {
   "cell_type": "markdown",
   "metadata": {},
   "source": [
    "In this section we will analyse the accuracy scores that we achieve on the POS tag control task. This allows us to determine the level of selectivity. In order to do so, we will sample values for a new control_train_y (instead of the regular train_y) which is randomly sampled from a distribution (dist) that is similar to the original train_y."
   ]
  },
  {
   "cell_type": "code",
   "execution_count": 32,
   "metadata": {},
   "outputs": [],
   "source": [
    "from controltasks import *"
   ]
  },
  {
   "cell_type": "code",
   "execution_count": 33,
   "metadata": {},
   "outputs": [],
   "source": [
    "# Retrieve the control task y's\n",
    "control_y_train, control_dict_train = control_y(train_x, train_y, flatten_train, dist)"
   ]
  },
  {
   "cell_type": "code",
   "execution_count": 34,
   "metadata": {},
   "outputs": [],
   "source": [
    "control_y_test = dev_test_y(control_dict_train, flatten_test, dist)\n",
    "control_y_dev  = dev_test_y(control_dict_train, flatten_dev , dist)"
   ]
  },
  {
   "cell_type": "code",
   "execution_count": 35,
   "metadata": {},
   "outputs": [],
   "source": [
    "# Get dataloaders with control task y\n",
    "control_train_loader = data.DataLoader(POSDataset(train_x, control_y_train), batch_size=16)\n",
    "control_dev_loader = data.DataLoader(POSDataset(dev_x, control_y_dev), batch_size=16)\n",
    "control_test_loader = data.DataLoader(POSDataset(test_x, control_y_test), batch_size=16)"
   ]
  },
  {
   "cell_type": "code",
   "execution_count": 36,
   "metadata": {},
   "outputs": [
    {
     "name": "stdout",
     "output_type": "stream",
     "text": [
      "Epoch 0 accuracy 0.16941529235382308 0.23782234957020057\n",
      "Epoch 1 accuracy 0.3583208395802099 0.3223495702005731\n",
      "Epoch 2 accuracy 0.4917541229385307 0.33954154727793695\n",
      "Epoch 3 accuracy 0.5637181409295352 0.3424068767908309\n",
      "Epoch 4 accuracy 0.6206896551724138 0.34813753581661894\n",
      "Epoch 5 accuracy 0.664167916041979 0.3495702005730659\n",
      "Epoch 6 accuracy 0.7181409295352323 0.35816618911174786\n",
      "Epoch 7 accuracy 0.7661169415292354 0.35816618911174786\n",
      "Epoch 8 accuracy 0.7886056971514243 0.3624641833810888\n",
      "Epoch 9 accuracy 0.8185907046476761 0.3638968481375358\n",
      "Test accuracy 0.3473053892215569\n"
     ]
    }
   ],
   "source": [
    "# Train the model on control task\n",
    "model = POSProbe(768, len(train_y.unique())).to(device)\n",
    "train(model, control_train_loader, control_dev_loader, 10)\n",
    "print(\"Test accuracy\", eval_given_dataloader(control_test_loader, model))"
   ]
  }
 ],
 "metadata": {
  "kernelspec": {
   "display_name": "Python 3",
   "language": "python",
   "name": "python3"
  },
  "language_info": {
   "codemirror_mode": {
    "name": "ipython",
    "version": 3
   },
   "file_extension": ".py",
   "mimetype": "text/x-python",
   "name": "python",
   "nbconvert_exporter": "python",
   "pygments_lexer": "ipython3",
   "version": "3.8.2"
  },
  "toc": {
   "base_numbering": 1,
   "nav_menu": {},
   "number_sections": true,
   "sideBar": true,
   "skip_h1_title": false,
   "title_cell": "Table of Contents",
   "title_sidebar": "Contents",
   "toc_cell": false,
   "toc_position": {},
   "toc_section_display": true,
   "toc_window_display": false
  }
 },
 "nbformat": 4,
 "nbformat_minor": 4
}
